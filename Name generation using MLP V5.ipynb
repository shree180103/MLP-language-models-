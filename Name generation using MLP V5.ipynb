{
 "cells": [
  {
   "cell_type": "code",
   "execution_count": 1,
   "id": "587ee8da-7ba0-4499-a69c-64cec9a0a10b",
   "metadata": {},
   "outputs": [],
   "source": [
    "import torch\n",
    "from torch import nn\n",
    "from torch.utils.data import DataLoader\n",
    "import torchvision\n",
    "from torchvision import datasets\n",
    "from torchvision.transforms import ToTensor\n",
    "import torchvision.datasets as datasets\n",
    "import torchvision.transforms as transforms\n",
    "import random\n",
    "import numpy as np\n",
    "from PIL import Image\n",
    "import pandas as pd\n",
    "import os \n",
    "import matplotlib.pyplot as plt\n",
    "import math\n",
    "import random\n",
    "import torch.nn.functional as F"
   ]
  },
  {
   "cell_type": "code",
   "execution_count": 2,
   "id": "a19fe7dd-664a-47dd-b1e1-2849e76fe32b",
   "metadata": {},
   "outputs": [
    {
     "data": {
      "text/plain": [
       "{'a': 1,\n",
       " 'b': 2,\n",
       " 'c': 3,\n",
       " 'd': 4,\n",
       " 'e': 5,\n",
       " 'f': 6,\n",
       " 'g': 7,\n",
       " 'h': 8,\n",
       " 'i': 9,\n",
       " 'j': 10,\n",
       " 'k': 11,\n",
       " 'l': 12,\n",
       " 'm': 13,\n",
       " 'n': 14,\n",
       " 'o': 15,\n",
       " 'p': 16,\n",
       " 'q': 17,\n",
       " 'r': 18,\n",
       " 's': 19,\n",
       " 't': 20,\n",
       " 'u': 21,\n",
       " 'v': 22,\n",
       " 'w': 23,\n",
       " 'x': 24,\n",
       " 'y': 25,\n",
       " 'z': 26,\n",
       " '.': 0}"
      ]
     },
     "execution_count": 2,
     "metadata": {},
     "output_type": "execute_result"
    }
   ],
   "source": [
    "words=open('names.txt').read().splitlines()\n",
    "chars=sorted(list(set(''.join(words))))\n",
    "s_to_i={s:i+1 for i,s in enumerate(chars) }\n",
    "s_to_i['.']=0\n",
    "i_to_s={i:s for s,i in s_to_i.items()}\n",
    "vocab_size=len(i_to_s)\n",
    "s_to_i"
   ]
  },
  {
   "cell_type": "code",
   "execution_count": 3,
   "id": "80acf600-a585-459f-b48c-c6cad24933ac",
   "metadata": {},
   "outputs": [
    {
     "name": "stdout",
     "output_type": "stream",
     "text": [
      "torch.Size([182625, 8]) torch.Size([182625])\n",
      "torch.Size([22655, 8]) torch.Size([22655])\n",
      "torch.Size([22866, 8]) torch.Size([22866])\n"
     ]
    }
   ],
   "source": [
    "def build_dataset(words):\n",
    "    context_length=8\n",
    "    x,y=[],[]\n",
    "    for w in words:\n",
    "        # print(w)\n",
    "        context=[0]*context_length\n",
    "        for ch in w+'.':\n",
    "            idx=s_to_i[ch]\n",
    "            x.append(context)\n",
    "            y.append(idx)\n",
    "            # print(''.join(i_to_s[i] for i in context),'--->',i_to_s[idx])\n",
    "            context=context[1:]+[idx]\n",
    "    x=torch.tensor(x)\n",
    "    y=torch.tensor(y)\n",
    "    print(x.shape,y.shape)\n",
    "    return x,y\n",
    "\n",
    "\n",
    "random.seed(42)\n",
    "random.shuffle(words)\n",
    "n1=int(0.8*len(words))\n",
    "n2=int(0.9*len(words))\n",
    "\n",
    "x_train,y_train=build_dataset(words[:n1])\n",
    "x_val,y_val=build_dataset(words[n1:n2])\n",
    "x_test,y_test=build_dataset(words[n2:])\n",
    "\n"
   ]
  },
  {
   "cell_type": "code",
   "execution_count": 4,
   "id": "8818734d-5fe9-4d4f-bc9b-238296e6fefc",
   "metadata": {},
   "outputs": [
    {
     "name": "stdout",
     "output_type": "stream",
     "text": [
      "........ --> y\n",
      ".......y --> u\n",
      "......yu --> h\n",
      ".....yuh --> e\n",
      "....yuhe --> n\n",
      "...yuhen --> g\n",
      "..yuheng --> .\n",
      "........ --> d\n",
      ".......d --> i\n",
      "......di --> o\n",
      ".....dio --> n\n",
      "....dion --> d\n",
      "...diond --> r\n",
      "..diondr --> e\n",
      ".diondre --> .\n",
      "........ --> x\n",
      ".......x --> a\n",
      "......xa --> v\n",
      ".....xav --> i\n",
      "....xavi --> e\n"
     ]
    }
   ],
   "source": [
    "for x,y in zip(x_train[:20],y_train[:20]):\n",
    "    print(''.join(i_to_s[idx.item()]for idx in x),'-->',i_to_s[y.item()])"
   ]
  },
  {
   "cell_type": "code",
   "execution_count": 5,
   "id": "c7ee6d51-b089-4036-a69e-878378720f18",
   "metadata": {},
   "outputs": [],
   "source": [
    "class Linear:\n",
    "    def __init__(self,fan_in,fan_out,bias=True):\n",
    "        self.weights=torch.randn((fan_in,fan_out))/(fan_in**0.5)\n",
    "        self.bias=torch.zeros(fan_out) if bias else None \n",
    "        \n",
    "    def __call__(self,x):\n",
    "        self.out=x @ self.weights \n",
    "        if self.bias is not None:\n",
    "            self.out+=self.bias\n",
    "        return  self.out\n",
    "        \n",
    "    def parameters(self):\n",
    "        return [self.weights]+ ([] if self.bias is None else [self.bias])\n",
    "\n",
    "class BatchNorm1d:\n",
    "    def __init__(self,dim,eps=1e-5,momentum=0.1):\n",
    "        self.eps=eps\n",
    "        self.momentum=momentum\n",
    "        self.training=True\n",
    "        # paramameters for scale and shift\n",
    "        self.gamma=torch.ones(dim)\n",
    "        self.beta=torch.zeros(dim)\n",
    "        # buffers\n",
    "        self.running_mean=torch.zeros(dim)\n",
    "        self.running_var=torch.ones(dim)\n",
    "\n",
    "    def __call__(self,x):\n",
    "        if self.training:\n",
    "            xmean=x.mean(0,keepdim=True)\n",
    "            xvar=x.var(0,keepdim=True)\n",
    "        else:\n",
    "            xmean=self.running_mean\n",
    "            xvar=self.running_var\n",
    "        xnorm=(x-xmean)/torch.sqrt(xvar+self.eps)\n",
    "        self.out=self.gamma*xnorm+self.beta\n",
    "        # update buffers\n",
    "        if self.training:\n",
    "            with torch.no_grad():\n",
    "                self.running_mean=(1-self.momentum)*self.running_mean + self.momentum*xmean\n",
    "                self.running_var=(1-self.momentum)*self.running_var+self.momentum*xvar\n",
    "                \n",
    "        return self.out\n",
    "        \n",
    "    def parameters(self):\n",
    "        return [self.gamma,self.beta]\n",
    "        \n",
    "\n",
    "class Tanh:\n",
    "    def __call__(self,x):\n",
    "        self.out=torch.tanh(x)\n",
    "        return self.out\n",
    "    def parameters(self):\n",
    "        return []\n",
    "            \n",
    "        \n",
    "class Embeddings:\n",
    "    def __init__(self,num_embeds,emb_dim):\n",
    "        self.emb_weights=torch.randn((num_embeds,emb_dim))\n",
    "\n",
    "    def __call__(self,idx):\n",
    "        self.out=self.emb_weights[idx]\n",
    "        return self.out\n",
    "\n",
    "    def parameters(self):\n",
    "        return [self.emb_weights]\n",
    "\n",
    "class Flatten:\n",
    "    def __call__(self,x):\n",
    "        self.out=x.view(x.shape[0],-1)\n",
    "        return self.out\n",
    "\n",
    "    def parameters(self):\n",
    "        return []\n",
    "\n",
    "class Sequential:\n",
    "    def __init__(self,layers):\n",
    "        self.layers=layers\n",
    "\n",
    "    def __call__(self,x):\n",
    "        for layer in self.layers:\n",
    "            x=layer(x)\n",
    "        self.out=x\n",
    "        return self.out\n",
    "\n",
    "    def parameters(self):\n",
    "        return [p for layer in self.layers for p in layer.parameters()]\n",
    "        \n",
    "        "
   ]
  },
  {
   "cell_type": "code",
   "execution_count": 6,
   "id": "c300f1d1-1b90-4873-815e-c53f857a25a4",
   "metadata": {},
   "outputs": [],
   "source": [
    "torch.manual_seed(42);"
   ]
  },
  {
   "cell_type": "code",
   "execution_count": 7,
   "id": "aabd5e8d-74aa-4f9a-b0b4-548855054b96",
   "metadata": {},
   "outputs": [
    {
     "name": "stdout",
     "output_type": "stream",
     "text": [
      "22097\n"
     ]
    }
   ],
   "source": [
    "# hyperparameters \n",
    "batch_size=32\n",
    "emb_space=10\n",
    "context_length=8\n",
    "# x_view=x_train.shape[1]*emb_space\n",
    "h_units=200\n",
    "# C=torch.randn((vocab_size,emb_space))\n",
    "lossi=[]\n",
    "steps=[]\n",
    "lri=[]\n",
    "lrex=[]\n",
    "ud=[]\n",
    "\n",
    "model=Sequential([Embeddings(vocab_size,emb_space),Flatten(),\n",
    "    Linear(emb_space*context_length,h_units,bias=False),BatchNorm1d(h_units),Tanh(),\n",
    "    Linear(h_units,vocab_size)\n",
    "])\n",
    "\n",
    "with torch.no_grad():\n",
    "    model.layers[-1].weights*=0.1\n",
    "    # layers[-1].gamma*=0.1  # making last layer less confident \n",
    "    # for layer in layers[:-1]:\n",
    "    #     if isinstance(layer,Linear):\n",
    "    #         layer.weights*=5/3\n",
    "\n",
    "parameters= model.parameters()\n",
    "for p in parameters:\n",
    "    p.requires_grad=True\n",
    "\n",
    "print(sum(p.nelement() for p in parameters))"
   ]
  },
  {
   "cell_type": "code",
   "execution_count": 8,
   "id": "bc879435-0400-467d-81c4-b96599c40902",
   "metadata": {},
   "outputs": [
    {
     "name": "stdout",
     "output_type": "stream",
     "text": [
      "      0/ 200000 : 3.2847\n",
      "  10000/ 200000 : 2.0647\n",
      "  20000/ 200000 : 1.9722\n",
      "  30000/ 200000 : 2.0948\n",
      "  40000/ 200000 : 1.9738\n",
      "  50000/ 200000 : 2.1287\n",
      "  60000/ 200000 : 2.3574\n",
      "  70000/ 200000 : 1.9131\n",
      "  80000/ 200000 : 2.0735\n",
      "  90000/ 200000 : 2.0968\n",
      " 100000/ 200000 : 1.4963\n",
      " 110000/ 200000 : 2.1294\n",
      " 120000/ 200000 : 2.2324\n",
      " 130000/ 200000 : 2.2071\n",
      " 140000/ 200000 : 2.2326\n",
      " 150000/ 200000 : 1.8908\n",
      " 160000/ 200000 : 1.6867\n",
      " 170000/ 200000 : 2.0968\n",
      " 180000/ 200000 : 1.7824\n",
      " 190000/ 200000 : 1.9151\n"
     ]
    }
   ],
   "source": [
    "max_steps=200000\n",
    "for i in range(max_steps):\n",
    "    #minibatch construct\n",
    "    ix=torch.randint(0,x_train.shape[0],(batch_size,)) \n",
    "    #foward pass\n",
    "    x=x_train[ix]\n",
    "    logits=model(x)\n",
    "    loss=F.cross_entropy(logits,y_train[ix])\n",
    "    #backward pass\n",
    "    # for layer in layers:\n",
    "    #     layer.out.retain_grad()\n",
    "    for p in parameters:\n",
    "        p.grad=None\n",
    "    loss.backward()\n",
    "    \n",
    "    lr=0.1 if i<150000 else 0.01\n",
    "        \n",
    "    for p in parameters:\n",
    "            p.data+=-lr*p.grad\n",
    "\n",
    "     # track stats\n",
    "    if i%10000==0:\n",
    "        print(f'{i:7d}/{max_steps:7d} : {loss.item():.4f}')\n",
    "    steps.append(i)\n",
    "    lossi.append(loss.log10().item())\n",
    "\n",
    "    with torch.no_grad():\n",
    "        ud.append([(lr*p.grad.std()/ p.data.std()).log10().item() for p in parameters])\n",
    "    # break\n",
    "    # if i>9998:\n",
    "    #     break"
   ]
  },
  {
   "cell_type": "code",
   "execution_count": 9,
   "id": "edf8b557-0833-4627-b74e-3abb09225cd8",
   "metadata": {},
   "outputs": [
    {
     "data": {
      "text/plain": [
       "[<matplotlib.lines.Line2D at 0x2744a3e75c0>]"
      ]
     },
     "execution_count": 9,
     "metadata": {},
     "output_type": "execute_result"
    },
    {
     "data": {
      "image/png": "[encoded data removed]",
      "text/plain": [
       "<Figure size 640x480 with 1 Axes>"
      ]
     },
     "metadata": {},
     "output_type": "display_data"
    }
   ],
   "source": [
    "plt.plot(lossi)"
   ]
  },
  {
   "cell_type": "code",
   "execution_count": 10,
   "id": "a5ce691b-2592-4914-8b5c-dc6f04070d1c",
   "metadata": {},
   "outputs": [
    {
     "data": {
      "image/png": "[encoded data removed]",
      "text/plain": [
       "<Figure size 640x480 with 1 Axes>"
      ]
     },
     "metadata": {},
     "output_type": "display_data"
    }
   ],
   "source": [
    "plt.plot(torch.tensor(lossi).view(-1,1000).mean(1));"
   ]
  },
  {
   "cell_type": "code",
   "execution_count": 11,
   "id": "0b9fa260-dd0d-4393-af20-06c9c037b4e0",
   "metadata": {},
   "outputs": [],
   "source": [
    "for layer in model.layers:\n",
    "    layer.training=False\n"
   ]
  },
  {
   "cell_type": "code",
   "execution_count": 12,
   "id": "056d6da2-3c6c-47a6-9247-78f29a4f7389",
   "metadata": {},
   "outputs": [
    {
     "name": "stdout",
     "output_type": "stream",
     "text": [
      "train 1.9163438081741333\n",
      "val 2.034248113632202\n"
     ]
    }
   ],
   "source": [
    "@torch.no_grad()\n",
    "def split_loss(split):\n",
    "    x,y={\n",
    "        'train':(x_train,y_train),\n",
    "        'val':(x_val,y_val),\n",
    "        'test':(x_test,y_test)\n",
    "        }[split]\n",
    "    \n",
    "    logits=model(x)\n",
    "    loss=F.cross_entropy(logits,y)\n",
    "    \n",
    "    print(split,loss.item())\n",
    "\n",
    "split_loss('train')\n",
    "split_loss('val')"
   ]
  },
  {
   "cell_type": "code",
   "execution_count": 13,
   "id": "c4d4c099-e5ae-4033-b951-0e60da02637b",
   "metadata": {},
   "outputs": [
    {
     "name": "stdout",
     "output_type": "stream",
     "text": [
      "yeverii.\n",
      "kya.\n",
      "kylek.\n",
      "tisire.\n",
      "porbyn.\n",
      "abib.\n",
      "merighlynn.\n",
      "loriel.\n",
      "jiildy.\n",
      "davryah.\n",
      "brone.\n",
      "thorder.\n",
      "nyleah.\n",
      "miromell.\n",
      "oluwase.\n",
      "josusas.\n",
      "ramia.\n",
      "herlio.\n",
      "delina.\n",
      "maclai.\n"
     ]
    }
   ],
   "source": [
    "# # sampling from the moodel \n",
    "# g=torch.Generator().manual_seed(2147483647)\n",
    "for i in range(20):\n",
    "    out=[]\n",
    "    context=[0]*context_length\n",
    "    while True:\n",
    "        # emb=C[torch.tensor([context])] #(1,conntext_length,d)\n",
    "        x=torch.tensor([context])\n",
    "        logits=model(x)\n",
    "        probs=F.softmax(logits,dim=1)\n",
    "        idx=torch.multinomial(probs,num_samples=1).item()\n",
    "        context=context[1:]+[idx]\n",
    "        out.append(idx)\n",
    "        if idx==0:\n",
    "            break\n",
    "    print(''.join(i_to_s[i] for i in out))"
   ]
  }
 ],
 "metadata": {
  "kernelspec": {
   "display_name": "Python 3 (ipykernel)",
   "language": "python",
   "name": "python3"
  },
  "language_info": {
   "codemirror_mode": {
    "name": "ipython",
    "version": 3
   },
   "file_extension": ".py",
   "mimetype": "text/x-python",
   "name": "python",
   "nbconvert_exporter": "python",
   "pygments_lexer": "ipython3",
   "version": "3.12.7"
  }
 },
 "nbformat": 4,
 "nbformat_minor": 5
}
